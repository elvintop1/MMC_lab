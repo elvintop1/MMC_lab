{
 "cells": [
  {
   "cell_type": "code",
   "execution_count": 3,
   "metadata": {},
   "outputs": [
    {
     "data": {
      "text/plain": [
       "('3.28', '39.37')"
      ]
     },
     "execution_count": 3,
     "metadata": {},
     "output_type": "execute_result"
    }
   ],
   "source": [
    "# Question 1\n",
    "def convert_cm_to_foot_and_inch(cm):\n",
    "    inches = cm / 2.54\n",
    "    feet = inches / 12\n",
    "    return feet, inches\n",
    "\n",
    "cm_input = 100  \n",
    "feet, inches = convert_cm_to_foot_and_inch(cm_input)\n",
    "feet_formatted = \"{:.2f}\".format(feet)\n",
    "inches_formatted = \"{:.2f}\".format(inches)\n",
    "\n",
    "feet_formatted, inches_formatted\n"
   ]
  },
  {
   "cell_type": "code",
   "execution_count": 4,
   "metadata": {},
   "outputs": [
    {
     "data": {
      "text/plain": [
       "'18:59:59'"
      ]
     },
     "execution_count": 4,
     "metadata": {},
     "output_type": "execute_result"
    }
   ],
   "source": [
    "#Question 2\n",
    "\n",
    "def convert_seconds_to_hms(seconds):\n",
    "    hours = seconds // 3600\n",
    "    minutes = (seconds % 3600) // 60\n",
    "    seconds = seconds % 60\n",
    "    return f\"{hours:02d}:{minutes:02d}:{seconds:02d}\"\n",
    "\n",
    "seconds_input = 68399  \n",
    "formatted_time = convert_seconds_to_hms(seconds_input)\n",
    "formatted_time\n"
   ]
  },
  {
   "cell_type": "code",
   "execution_count": 5,
   "metadata": {},
   "outputs": [
    {
     "data": {
      "text/plain": [
       "(4, 1)"
      ]
     },
     "execution_count": 5,
     "metadata": {},
     "output_type": "execute_result"
    }
   ],
   "source": [
    "# Question 3\n",
    "numbers = [1, 2, 3, 4]\n",
    "max_number = max(numbers)\n",
    "min_number = min(numbers)\n",
    "\n",
    "max_number, min_number\n"
   ]
  },
  {
   "cell_type": "code",
   "execution_count": 6,
   "metadata": {},
   "outputs": [
    {
     "data": {
      "text/plain": [
       "'Số thứ nhất lớn hơn số thứ hai'"
      ]
     },
     "execution_count": 6,
     "metadata": {},
     "output_type": "execute_result"
    }
   ],
   "source": [
    "#Question 4\n",
    "a = 5  \n",
    "b = 3  \n",
    "\n",
    "difference = a - b\n",
    "\n",
    "if difference > 0:\n",
    "    message = \"Số thứ nhất lớn hơn số thứ hai\"\n",
    "elif difference < 0:\n",
    "    message = \"Số thứ nhất nhỏ hơn số thứ hai\"\n",
    "else:\n",
    "    message = \"Hai số bằng nhau\"\n",
    "\n",
    "message\n"
   ]
  },
  {
   "cell_type": "code",
   "execution_count": 7,
   "metadata": {},
   "outputs": [
    {
     "name": "stdout",
     "output_type": "stream",
     "text": [
      "a khong chia het cho b\n"
     ]
    }
   ],
   "source": [
    "# Question 5\n",
    "a = 5\n",
    "b = 3\n",
    "if a % b == 0:\n",
    "    print('a chia het cho b')\n",
    "else:\n",
    "    print('a khong chia het cho b')"
   ]
  },
  {
   "cell_type": "code",
   "execution_count": 9,
   "metadata": {},
   "outputs": [
    {
     "data": {
      "text/plain": [
       "(6.0, 'Loại trung bình khá')"
      ]
     },
     "execution_count": 9,
     "metadata": {},
     "output_type": "execute_result"
    }
   ],
   "source": [
    "# Question 6\n",
    "def calculate_grade(math_score, physics_score, chemistry_score):\n",
    "    average_score = ((math_score * 2) + physics_score + chemistry_score) / 4\n",
    "    if average_score >= 9.0:\n",
    "        grade = \"Loại xuất sắc\"\n",
    "    elif average_score >= 8.0:\n",
    "        grade = \"Loại giỏi\"\n",
    "    elif average_score >= 7.0:\n",
    "        grade = \"Loại khá\"\n",
    "    elif average_score >= 6.0:\n",
    "        grade = \"Loại trung bình khá\"\n",
    "    elif average_score >= 5.0:\n",
    "        grade = \"Loại trung bình\"\n",
    "    else:\n",
    "        grade = \"Loại kém\"\n",
    "    \n",
    "    return average_score, grade\n",
    "\n",
    "math_score = 5  # Điểm toán\n",
    "physics_score = 6.5  # Điểm lý\n",
    "chemistry_score = 7.5  # Điểm hóa\n",
    "\n",
    "\n",
    "average_score, grade = calculate_grade(math_score, physics_score, chemistry_score)\n",
    "\n",
    "average_score, grade\n"
   ]
  },
  {
   "cell_type": "code",
   "execution_count": 13,
   "metadata": {},
   "outputs": [
    {
     "data": {
      "text/plain": [
       "39"
      ]
     },
     "execution_count": 13,
     "metadata": {},
     "output_type": "execute_result"
    }
   ],
   "source": [
    "#Question 1 part 2\n",
    "a = 3453453453\n",
    "b = str(a)\n",
    "sum = 0\n",
    "for c in b:\n",
    "    sum += int(c)\n",
    "\n",
    "sum"
   ]
  },
  {
   "cell_type": "code",
   "execution_count": 15,
   "metadata": {},
   "outputs": [
    {
     "data": {
      "text/plain": [
       "'5 x 19 x 373'"
      ]
     },
     "execution_count": 15,
     "metadata": {},
     "output_type": "execute_result"
    }
   ],
   "source": [
    "# Question 2 part 2\n",
    "def prime_factorization(n):\n",
    "    factors = []\n",
    "    while n % 2 == 0:\n",
    "        factors.append(2)\n",
    "        n = n // 2\n",
    "    for i in range(3, int(n**0.5)+1, 2):\n",
    "        while n % i == 0:\n",
    "            factors.append(i)\n",
    "            n = n // i\n",
    "    if n > 2:\n",
    "        factors.append(n)\n",
    "    return factors\n",
    "\n",
    "number = 35435\n",
    "\n",
    "\n",
    "prime_factors = prime_factorization(number)\n",
    "\n",
    "\n",
    "formatted_output = \" x \".join(map(str, prime_factors))\n",
    "formatted_output\n"
   ]
  },
  {
   "cell_type": "code",
   "execution_count": 30,
   "metadata": {},
   "outputs": [
    {
     "name": "stdout",
     "output_type": "stream",
     "text": [
      "[2, 3, 5, 7, 11, 13, 17, 19, 23, 29, 31, 37, 41, 43, 47, 53, 59, 61, 67, 71, 73, 79, 83, 89, 97, 101, 103, 107, 109, 113, 127, 131, 137, 139, 149, 151, 157, 163, 167, 173, 179, 181, 191, 193, 197, 199, 211, 223, 227, 229, 233, 239, 241, 251, 257, 263, 269, 271, 277, 281, 283, 293]\n"
     ]
    }
   ],
   "source": [
    "# Question 3 part 2\n",
    "def list_primes(n):\n",
    "    primes = []\n",
    "    for possiblePrime in range(2, n):\n",
    "        isPrime = True\n",
    "        for num in range(2, int(possiblePrime ** 0.5) + 1):\n",
    "            if possiblePrime % num == 0:\n",
    "                isPrime = False\n",
    "                break\n",
    "        if isPrime:\n",
    "            primes.append(possiblePrime)\n",
    "    return primes\n",
    "\n",
    "\n",
    "n = 300\n",
    "prime_numbers = list_primes(n)\n",
    "\n",
    "print(prime_numbers)\n"
   ]
  },
  {
   "cell_type": "code",
   "execution_count": 17,
   "metadata": {},
   "outputs": [
    {
     "data": {
      "text/plain": [
       "[2, 3, 5, 7, 11, 13]"
      ]
     },
     "execution_count": 17,
     "metadata": {},
     "output_type": "execute_result"
    }
   ],
   "source": [
    "# Question 4 part 2\n",
    "\n",
    "def list_primes(n):\n",
    "    primes = []\n",
    "    for possiblePrime in range(2, n):\n",
    "        isPrime = True\n",
    "        for num in range(2, int(possiblePrime ** 0.5) + 1):\n",
    "            if possiblePrime % num == 0:\n",
    "                isPrime = False\n",
    "                break\n",
    "        if isPrime:\n",
    "            primes.append(possiblePrime)\n",
    "    return primes\n",
    "\n",
    "\n",
    "n = 300\n",
    "k = 6\n",
    "prime_numbers = list_primes(n)\n",
    "\n",
    "prime_numbers[:k]"
   ]
  },
  {
   "cell_type": "code",
   "execution_count": 18,
   "metadata": {},
   "outputs": [
    {
     "name": "stdout",
     "output_type": "stream",
     "text": [
      "3 90735\n"
     ]
    }
   ],
   "source": [
    "# Question 5 part 2\n",
    "\n",
    "import math\n",
    "\n",
    "a= 345\n",
    "b = 789\n",
    "\n",
    "c = math.gcd(a,b)\n",
    "d = a * b // c\n",
    "print(c,d)"
   ]
  },
  {
   "cell_type": "code",
   "execution_count": 22,
   "metadata": {},
   "outputs": [
    {
     "data": {
      "text/plain": [
       "218922995834555169026"
      ]
     },
     "execution_count": 22,
     "metadata": {},
     "output_type": "execute_result"
    }
   ],
   "source": [
    "#Question 6 part 2\n",
    "F = [0,1]\n",
    "n = 100\n",
    "while(len(F) < n):\n",
    "    c = F[-1] + F[-2]\n",
    "    F.append(c)\n",
    "F[-1]"
   ]
  },
  {
   "cell_type": "code",
   "execution_count": 32,
   "metadata": {},
   "outputs": [
    {
     "name": "stdout",
     "output_type": "stream",
     "text": [
      "[0, 1, 1, 2, 3, 5, 8, 13, 89]\n"
     ]
    }
   ],
   "source": [
    "#Question 7 part 2\n",
    "F = [0,1]\n",
    "n = 100\n",
    "while(len(F) < n):\n",
    "    c = F[-1] + F[-2]\n",
    "    F.append(c)\n",
    "i = int(0)\n",
    "ok = True\n",
    "result = []\n",
    "while(i < len(F) and F[i] < n):\n",
    "    for k in range(2,int(F[i] ** 0.5)):\n",
    "        if F[i] % k == 0:\n",
    "            ok = False\n",
    "            break\n",
    "    result.append(F[i]) if ok == True else None\n",
    "    ok = True\n",
    "    i = i + 1\n",
    "print(result)"
   ]
  },
  {
   "cell_type": "code",
   "execution_count": 31,
   "metadata": {},
   "outputs": [
    {
     "data": {
      "text/plain": [
       "('5 x 19 x 373', 20)"
      ]
     },
     "execution_count": 31,
     "metadata": {},
     "output_type": "execute_result"
    }
   ],
   "source": [
    "# Question 8 part 2\n",
    "def prime_factorization(n):\n",
    "    factors = []\n",
    "    while n % 2 == 0:\n",
    "        factors.append(2)\n",
    "        n = n // 2\n",
    "    for i in range(3, int(n**0.5)+1, 2):\n",
    "        while n % i == 0:\n",
    "            factors.append(i)\n",
    "            n = n // i\n",
    "    if n > 2:\n",
    "        factors.append(n)\n",
    "    return factors\n",
    "\n",
    "number = 35435\n",
    "\n",
    "number_str = str(number)\n",
    "sum = 0\n",
    "for c in number_str:\n",
    "    sum = sum + int(c)\n",
    "prime_factors = prime_factorization(number)\n",
    "\n",
    "\n",
    "formatted_output = \" x \".join(map(str, prime_factors))\n",
    "formatted_output, sum\n"
   ]
  },
  {
   "cell_type": "code",
   "execution_count": 35,
   "metadata": {},
   "outputs": [
    {
     "name": "stdout",
     "output_type": "stream",
     "text": [
      "[1, 2, 3, 4, 6, 8, 9, 12, 16, 18, 24, 27, 32, 36, 48, 54, 64, 72, 96, 108, 128, 144, 192, 216, 288, 384, 432, 576, 864, 1152, 1728, 3456] 32 [2, 3]\n"
     ]
    }
   ],
   "source": [
    "# Question 9 part 2\n",
    "def list_factors_and_prime_factors(n):\n",
    "    factors = []\n",
    "    prime_factors = []\n",
    "    for i in range(1, int(n ** 0.5) + 1):\n",
    "        if n % i == 0:\n",
    "            factors.append(i)\n",
    "            if i != n // i:\n",
    "                factors.append(n // i)\n",
    "\n",
    "    factors.sort()\n",
    "    for factor in factors:\n",
    "        is_prime = True\n",
    "        if factor > 1:\n",
    "            for j in range(2, int(factor ** 0.5) + 1):\n",
    "                if factor % j == 0:\n",
    "                    is_prime = False\n",
    "                    break\n",
    "            if is_prime:\n",
    "                prime_factors.append(factor)\n",
    "    \n",
    "    return factors, len(factors), prime_factors\n",
    "\n",
    "\n",
    "n = 3456\n",
    "\n",
    "factors, number_of_factors, prime_factors = list_factors_and_prime_factors(n)\n",
    "print(factors, number_of_factors, prime_factors)\n"
   ]
  },
  {
   "cell_type": "code",
   "execution_count": 36,
   "metadata": {},
   "outputs": [
    {
     "data": {
      "text/plain": [
       "'This Is An Example String.'"
      ]
     },
     "execution_count": 36,
     "metadata": {},
     "output_type": "execute_result"
    }
   ],
   "source": [
    "def normalize_string(s):\n",
    "    words = s.split()\n",
    "    normalized_words = [word.capitalize() for word in words]\n",
    "    normalized_string = ' '.join(normalized_words)\n",
    "    return normalized_string\n",
    "\n",
    "input_string = \"   this is    an Example    string.  \"\n",
    "#input_string = input('Nhap string vo:')\n",
    "normalized_string = normalize_string(input_string)\n",
    "\n",
    "normalized_string\n"
   ]
  },
  {
   "cell_type": "code",
   "execution_count": 38,
   "metadata": {},
   "outputs": [
    {
     "name": "stdout",
     "output_type": "stream",
     "text": [
      "7 11 Example\n"
     ]
    }
   ],
   "source": [
    "#Question 11 part 2\n",
    "Str = 'This is an Example String'\n",
    "\n",
    "words = Str.split()\n",
    "mx = 0\n",
    "word_mx = ''\n",
    "for word in words:\n",
    "    if mx < len(word):\n",
    "        mx = len(word)\n",
    "        word_mx = word\n",
    "print(mx,Str.find(word_mx),word_mx)"
   ]
  },
  {
   "cell_type": "code",
   "execution_count": 40,
   "metadata": {},
   "outputs": [
    {
     "name": "stdout",
     "output_type": "stream",
     "text": [
      "Hình a:\n",
      "* * * * * * * * \n",
      "* * * * * * * \n",
      "* * * * * * \n",
      "* * * * * \n",
      "* * * * \n",
      "* * * \n",
      "* * \n",
      "* \n",
      "Hình b:\n",
      "* \n",
      "* * \n",
      "* * * \n",
      "* * * * \n",
      "* * * * * \n",
      "* * * * * * \n",
      "* * * * * * * \n",
      "* * * * * * * * \n",
      "Hình c:\n",
      "              * \n",
      "            * * * \n",
      "          * * * * * \n",
      "        * * * * * * * \n",
      "      * * * * * * * * * \n",
      "    * * * * * * * * * * * \n",
      "  * * * * * * * * * * * * * \n",
      "* * * * * * * * * * * * * * * \n",
      "Hình d:\n",
      "* * * * * * * * * * * * * * * \n",
      "  * * * * * * * * * * * * * \n",
      "    * * * * * * * * * * * \n",
      "      * * * * * * * * * \n",
      "        * * * * * * * \n",
      "          * * * * * \n",
      "            * * * \n",
      "              * \n"
     ]
    }
   ],
   "source": [
    "# Question 1 part 3\n",
    "n = 8 \n",
    "\n",
    "print(\"Hình a:\")\n",
    "for i in range(n, 0, -1):\n",
    "    for j in range(i):\n",
    "        print(\"* \", end=\"\")\n",
    "    print()\n",
    "\n",
    "print(\"Hình b:\")\n",
    "i = 0\n",
    "while i < n:\n",
    "    j = 0\n",
    "    while j <= i:\n",
    "        print(\"* \", end=\"\")\n",
    "        j += 1\n",
    "    print()\n",
    "    i += 1\n",
    "\n",
    "print(\"Hình c:\")\n",
    "i = 0\n",
    "while i < n:\n",
    "    # In khoảng trắng\n",
    "    for j in range(n - i - 1):\n",
    "        print(\" \", end=\" \")\n",
    "    # In các dấu sao\n",
    "    for j in range(2 * i + 1):\n",
    "        print(\"*\", end=\" \")\n",
    "    print()\n",
    "    i += 1\n",
    "\n",
    "print(\"Hình d:\")\n",
    "for i in range(n, 0, -1):\n",
    "    # In khoảng trắng\n",
    "    for j in range(n - i):\n",
    "        print(\" \", end=\" \")\n",
    "    # In các dấu sao\n",
    "    for j in range(2 * i - 1):\n",
    "        print(\"*\", end=\" \")\n",
    "    print()\n",
    "\n"
   ]
  },
  {
   "cell_type": "code",
   "execution_count": 42,
   "metadata": {},
   "outputs": [
    {
     "name": "stdout",
     "output_type": "stream",
     "text": [
      "3628800\n"
     ]
    }
   ],
   "source": [
    "n = 10\n",
    "fac = 1\n",
    "for i in range(1,n + 1):\n",
    "    fac = i * fac\n",
    "\n",
    "print(fac)"
   ]
  },
  {
   "cell_type": "code",
   "execution_count": null,
   "metadata": {},
   "outputs": [],
   "source": []
  }
 ],
 "metadata": {
  "kernelspec": {
   "display_name": "Python 3",
   "language": "python",
   "name": "python3"
  },
  "language_info": {
   "codemirror_mode": {
    "name": "ipython",
    "version": 3
   },
   "file_extension": ".py",
   "mimetype": "text/x-python",
   "name": "python",
   "nbconvert_exporter": "python",
   "pygments_lexer": "ipython3",
   "version": "3.9.6"
  }
 },
 "nbformat": 4,
 "nbformat_minor": 2
}
